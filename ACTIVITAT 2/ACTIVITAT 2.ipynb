{
 "cells": [
  {
   "cell_type": "code",
   "execution_count": null,
   "source": [
    "<html>\r\n",
    " <head>\r\n",
    "    <meta charset=\"utf-8\">\r\n",
    "    <meta name=\"description\" content=\"Exercici HTML - Corregint errors\">\r\n",
    "     <title>Corregeix els errors que trobis al document</title>\r\n",
    " </head>\r\n",
    "<body>\r\n",
    " <h1>Començam amb HTML</h1>\r\n",
    " <p>El llenguatge HTML es va crear el 1991. Té una història realment curta però per\r\n",
    " la seva poca vida ha sofert importants canvis. El seu pare és Tim Berners-Lee que el\r\n",
    " va dissenyar amb objectius divulgatius.</p>\r\n",
    " <p>Inicialment no es va pensar que el web arribaria a ser una àrea de lleure amb\r\n",
    " caràcter multimèdia, de manera que, va néixer sense donar resposta a tots els\r\n",
    " possibles usos que se li anava a donar i a tots els col·lectius de gent que\r\n",
    " l'utilitzarien en un futur. No obstant això, malgrat aquesta deficient planificació,\r\n",
    " si que s'han anat incorporant modificacions amb el temps, afegint noves\r\n",
    " característiques per cobrir les noves necessitats.</p>\r\n",
    " <p>Els programes que llegeixen i presenten les pàgines web als usuaris es diuen\r\n",
    " navegadors. Aquests són els responsables d'interpretar l'HTML i donar-li format a la\r\n",
    " pàgina tal com ells entenguin que han de fer. </p>\r\n",
    "</body>\r\n",
    " \r\n",
    "</html>"
   ],
   "outputs": [],
   "metadata": {}
  },
  {
   "cell_type": "code",
   "execution_count": null,
   "source": [
    "<!DOCTYPE html>\r\n",
    "<html lang=\"en\">\r\n",
    "<head>\r\n",
    "    <meta charset=\"UTF-8\">\r\n",
    "    <meta http-equiv=\"X-UA-Compatible\" content=\"IE=edge\">\r\n",
    "    <meta name=\"viewport\" content=\"width=device-width, initial-scale=1.0\">\r\n",
    "    <title>Document</title>\r\n",
    "</head>\r\n",
    "<body>\r\n",
    "    <h1>Pàgina inicial de la web</h1>\r\n",
    "    <p>Benvingut a aquest lloc web. Aquesta és una primera prova de document HTML</p>\r\n",
    "    \r\n",
    "    <h2 style=\"color: red;\">Destins turístics:</h2>\r\n",
    "    <ul>\r\n",
    "        <li>Mallorca</li>\r\n",
    "        <li >Sicilia</li>\r\n",
    "        <li >Menorca</li>\r\n",
    "    </ul>\r\n",
    "    <h3>Isaac, isaacpalougijon@gamil.com</h3>\r\n",
    "    <p>Nota: La llista d'elements són enllaços a pàgines web del tema en qüestió)</p>\r\n",
    "</body>\r\n",
    "</html>"
   ],
   "outputs": [],
   "metadata": {}
  },
  {
   "cell_type": "code",
   "execution_count": null,
   "source": [
    "<!DOCTYPE html>\r\n",
    "<html lang=\"en\">\r\n",
    "<head>\r\n",
    "    <meta charset=\"UTF-8\">\r\n",
    "    <meta http-equiv=\"X-UA-Compatible\" content=\"IE=edge\">\r\n",
    "    <meta name=\"viewport\" content=\"width=device-width, initial-scale=1.0\">\r\n",
    "    <title>Document</title>\r\n",
    "</head>\r\n",
    "<body>\r\n",
    "    <h1>Pàgina inicial de la web</h1>\r\n",
    "    <p>Benvingut a aquest lloc web. Aquesta és una primera prova de document HTML</p>\r\n",
    "    \r\n",
    "    <h2 style=\"color: red;\">Destins turístics:</h2>\r\n",
    "    <ol>\r\n",
    "        <li>Mallorca\r\n",
    "            <ul>\r\n",
    "                <li><a href=\"https://castelldebellver.palma.cat/portal/PALMA/castelldebellver/castelldebellver_principal1.jsp?codResi=1\">Castell de Bellver</a></li>\r\n",
    "                <li><a href=\"https://catedraldemallorca.org/ca/\">La Seu</a></li>\r\n",
    "                <li><a href=\"https://www.cartoixadevalldemossa.com/ca/\">Cartoixa De Valldemossa</a></li>\r\n",
    "            </ul>\r\n",
    "        </li>\r\n",
    "        <li >Sicilia</li>\r\n",
    "        <li >Menorca</li>\r\n",
    "    </ol>\r\n",
    "    <h3>Isaac, isaacpalougijon@gamil.com</h3>\r\n",
    "    <p>Nota: La llista d'elements són enllaços a pàgines web del tema en qüestió)</p>\r\n",
    "</body>\r\n",
    "</html>"
   ],
   "outputs": [],
   "metadata": {}
  },
  {
   "cell_type": "markdown",
   "source": [],
   "metadata": {}
  }
 ],
 "metadata": {
  "orig_nbformat": 4,
  "language_info": {
   "name": "python",
   "version": "3.8.10"
  },
  "kernelspec": {
   "name": "python3",
   "display_name": "Python 3.8.10 64-bit (windows store)"
  },
  "interpreter": {
   "hash": "43f9c4b535a7aec0ee56e70fcb86c7e6d4850a84678fdc23c7252743c2313315"
  }
 },
 "nbformat": 4,
 "nbformat_minor": 2
}